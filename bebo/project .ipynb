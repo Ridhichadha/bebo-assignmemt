{
 "cells": [
  {
   "cell_type": "markdown",
   "id": "5f10cccd",
   "metadata": {},
   "source": [
    "Importing Libraries"
   ]
  },
  {
   "cell_type": "code",
   "execution_count": 1,
   "id": "2c45c089",
   "metadata": {},
   "outputs": [],
   "source": [
    "from selenium import webdriver      #automation_framework\n",
    "\n",
    "from selenium.webdriver.support import expected_conditions as EC\n",
    "from selenium.webdriver.common.by import By\n",
    "from selenium.webdriver.support.wait import WebDriverWait     #for_dynamic_wait\n",
    "\n",
    "from webdriver_manager.chrome import ChromeDriverManager    \n",
    "from selenium.webdriver.chrome.options import Options       #for_using_chrome_and_its_options\n",
    "import random"
   ]
  },
  {
   "cell_type": "code",
   "execution_count": 2,
   "id": "ddbb6dc1",
   "metadata": {},
   "outputs": [
    {
     "name": "stderr",
     "output_type": "stream",
     "text": [
      "[WDM] - Downloading: 100%|████████████████████████████████████████████████████████| 6.29M/6.29M [00:04<00:00, 1.41MB/s]\n",
      "C:\\Users\\acer\\AppData\\Local\\Temp\\ipykernel_7804\\3316752266.py:3: DeprecationWarning: executable_path has been deprecated, please pass in a Service object\n",
      "  driver = webdriver.Chrome(chrome_options=opts, executable_path = ChromeDriverManager().install())   #automatically_install_chrome_driver_and_fetch_path\n",
      "C:\\Users\\acer\\AppData\\Local\\Temp\\ipykernel_7804\\3316752266.py:3: DeprecationWarning: use options instead of chrome_options\n",
      "  driver = webdriver.Chrome(chrome_options=opts, executable_path = ChromeDriverManager().install())   #automatically_install_chrome_driver_and_fetch_path\n"
     ]
    }
   ],
   "source": [
    "opts = Options()\n",
    "opts.add_extension('extension_5_1_2_0.crx')           #extension_to_block_the_ads\n",
    "driver = webdriver.Chrome(chrome_options=opts, executable_path = ChromeDriverManager().install())   #automatically_install_chrome_driver_and_fetch_path\n",
    "\n",
    "driver.get(\"https://www.demo.guru99.com/v4/\") #navigate_website\n",
    "driver.maximize_window()  \n",
    "\n",
    "driver.switch_to.window(driver.window_handles[1]) #change_the_handle_to_Close_undesired_page\n",
    "driver.close()\n",
    "driver.switch_to.window(driver.window_handles[0])\n",
    "\n",
    "#print(\"Trying to Login...\")\n",
    "WebDriverWait(driver,10).until(EC.element_to_be_clickable((By.NAME , 'uid'))).send_keys(\"mngr446033\") #dynamic_wait_10seconds\n",
    "WebDriverWait(driver,10).until(EC.element_to_be_clickable((By.NAME , 'password'))).send_keys(\"hEsUquz\")\n",
    "WebDriverWait(driver,10).until(EC.element_to_be_clickable((By.NAME , 'btnLogin'))).click()    #used_only_prioprity_locators\n",
    "\n",
    "#print(\"Creating New Customr...\")\n",
    "WebDriverWait(driver,10).until(EC.element_to_be_clickable((By.XPATH , '/html/body/div[3]/div/ul/li[2]/a'))).click()\n",
    "\n",
    "#print(\"Filling Details...\")\n",
    "WebDriverWait(driver,10).until(EC.element_to_be_clickable((By.XPATH , '/html/body/table/tbody/tr/td/table/tbody/tr[4]/td[2]/input'))).send_keys(\"name\")\n",
    "WebDriverWait(driver,10).until(EC.element_to_be_clickable((By.XPATH , '/html/body/table/tbody/tr/td/table/tbody/tr[5]/td[2]/input[2]'))).click()\n",
    "WebDriverWait(driver,10).until(EC.element_to_be_clickable((By.ID , 'dob'))).send_keys(15052000)\n",
    "WebDriverWait(driver,10).until(EC.element_to_be_clickable((By.XPATH , '/html/body/table/tbody/tr/td/table/tbody/tr[7]/td[2]/textarea'))).send_keys(\"address\")\n",
    "WebDriverWait(driver,10).until(EC.element_to_be_clickable((By.XPATH , '/html/body/table/tbody/tr/td/table/tbody/tr[8]/td[2]/input'))).send_keys(\"city\")\n",
    "WebDriverWait(driver,10).until(EC.element_to_be_clickable((By.XPATH , '/html/body/table/tbody/tr/td/table/tbody/tr[9]/td[2]/input'))).send_keys(\"state\")\n",
    "WebDriverWait(driver,10).until(EC.element_to_be_clickable((By.XPATH , '/html/body/table/tbody/tr/td/table/tbody/tr[10]/td[2]/input'))).send_keys(\"123456\")\n",
    "WebDriverWait(driver,10).until(EC.element_to_be_clickable((By.XPATH , '/html/body/table/tbody/tr/td/table/tbody/tr[11]/td[2]/input'))).send_keys(\"1234567890\")\n",
    "random_email = random.randint(14567,10000000) #creating_number_for_unique_email\n",
    "WebDriverWait(driver,10).until(EC.element_to_be_clickable((By.XPATH , '/html/body/table/tbody/tr/td/table/tbody/tr[12]/td[2]/input'))).send_keys(f\"hjh{random_email}{random_email}@gmail.com\")\n",
    "WebDriverWait(driver,10).until(EC.element_to_be_clickable((By.XPATH , '/html/body/table/tbody/tr/td/table/tbody/tr[13]/td[2]/input'))).send_keys(\"password123\")\n",
    "WebDriverWait(driver,10).until(EC.element_to_be_clickable((By.XPATH , '/html/body/table/tbody/tr/td/table/tbody/tr[14]/td[2]/input[1]'))).click()\n",
    "\n",
    "\n",
    "Id = WebDriverWait(driver,10).until(EC.element_to_be_clickable((By.XPATH , '//*[@id=\"customer\"]/tbody/tr[4]/td[2]'))).text\n",
    "WebDriverWait(driver,10).until(EC.element_to_be_clickable((By.XPATH , '/html/body/div[3]/div/ul/li[3]/a'))).click()\n",
    "\n",
    "#print(\"edit_verification\")\n",
    "WebDriverWait(driver,10).until(EC.element_to_be_clickable((By.XPATH , '/html/body/div[2]/div/div/ul/li[3]/a'))).click()\n",
    "WebDriverWait(driver,10).until(EC.element_to_be_clickable((By.TAG_NAME , \"input\"))).send_keys(Id)\n",
    "\n",
    "WebDriverWait(driver,10).until(EC.element_to_be_clickable((By.XPATH , \"/html/body/div[2]/table/tbody/tr/td/table/tbody/tr[11]/td[2]/input[1]\"))).click()\n",
    "\n",
    "#print(\"deleting user\")\n",
    "\n",
    "WebDriverWait(driver,10).until(EC.element_to_be_clickable((By.XPATH , '/html/body/div[3]/div/ul/li[4]/a'))).click()\n",
    "\n",
    "WebDriverWait(driver,10).until(EC.element_to_be_clickable((By.TAG_NAME , \"input\"))).send_keys(Id)\n",
    "WebDriverWait(driver,10).until(EC.element_to_be_clickable((By.XPATH , '/html/body/table/tbody/tr/td/table/tbody/tr[7]/td[2]/input[1]'))).click()\n",
    "\n",
    "try:\n",
    "    driver.switch_to.alert.accept()\n",
    "except:\n",
    "    pass\n",
    "\n",
    "try:\n",
    "    driver.switch_to.alert.accept() #to_handle_popup\n",
    "except:\n",
    "    pass\n",
    "#print(\"customer form deleted succesfuly!!\")\n",
    "driver.close()"
   ]
  },
  {
   "cell_type": "code",
   "execution_count": null,
   "id": "7ee636e7",
   "metadata": {},
   "outputs": [],
   "source": []
  },
  {
   "cell_type": "code",
   "execution_count": null,
   "id": "060b31fc",
   "metadata": {},
   "outputs": [],
   "source": []
  },
  {
   "cell_type": "code",
   "execution_count": null,
   "id": "99bed127",
   "metadata": {},
   "outputs": [],
   "source": []
  },
  {
   "cell_type": "code",
   "execution_count": null,
   "id": "b965ef6f",
   "metadata": {},
   "outputs": [],
   "source": []
  },
  {
   "cell_type": "code",
   "execution_count": null,
   "id": "54698cca",
   "metadata": {},
   "outputs": [],
   "source": []
  }
 ],
 "metadata": {
  "kernelspec": {
   "display_name": "Python 3 (ipykernel)",
   "language": "python",
   "name": "python3"
  },
  "language_info": {
   "codemirror_mode": {
    "name": "ipython",
    "version": 3
   },
   "file_extension": ".py",
   "mimetype": "text/x-python",
   "name": "python",
   "nbconvert_exporter": "python",
   "pygments_lexer": "ipython3",
   "version": "3.9.12"
  }
 },
 "nbformat": 4,
 "nbformat_minor": 5
}
